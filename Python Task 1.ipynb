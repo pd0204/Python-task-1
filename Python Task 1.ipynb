{
 "cells": [
  {
   "cell_type": "code",
   "execution_count": 1,
   "id": "bb02cb44",
   "metadata": {},
   "outputs": [
    {
     "name": "stdout",
     "output_type": "stream",
     "text": [
      "[1, 2, 3, 4, 44, 55, 66, 34, 56, 78, 89, 34, 1, 4, 34, 55, 67, 78, 89, 45, 22, 61, 34, 56]\n",
      "689118639831180913138973540352000\n"
     ]
    }
   ],
   "source": [
    "# solution 1.\n",
    "list1 = [1,2,3,4, [44,55,66, True], False, (34,56,78,89,34), {1,2,3,3,2,1}, {1:34, \"key2\": [55, 67, 78, 89], 4: (45,\n",
    "22, 61, 34)}, [56, 'data science'], 'Machine Learning']\n",
    "n = []\n",
    "for i in list1:\n",
    "    if type(i) == int:\n",
    "        n.append(i)\n",
    "    elif type(i) == list:\n",
    "        for y in i:\n",
    "            if type(y) == int:\n",
    "                n.append(y)\n",
    "    elif type(i) == tuple:\n",
    "        for v in i:\n",
    "            if type(v) == int:\n",
    "                n.append(v)\n",
    "    elif type(i) == dict:\n",
    "        for w in i.keys():\n",
    "            if type(w) == int:\n",
    "                n.append(w)\n",
    "        for l in i.values():\n",
    "            if type(l) == int:\n",
    "                n.append(l)\n",
    "            elif type(l) == list:\n",
    "                for f in l:\n",
    "                    if type(f) == int:\n",
    "                        n.append(f)\n",
    "            elif type(l) == tuple:\n",
    "                for g in l:\n",
    "                    if type(g) == int:\n",
    "                        n.append(g)\n",
    "print(n)\n",
    "from functools import  reduce\n",
    "prd = reduce(lambda x1,x2:x1*x2,n)\n",
    "print(prd)"
   ]
  },
  {
   "cell_type": "code",
   "execution_count": 2,
   "id": "a921e410",
   "metadata": {},
   "outputs": [
    {
     "name": "stdout",
     "output_type": "stream",
     "text": [
      "write a message:Hello Pd\n",
      "svlll$kw\n"
     ]
    }
   ],
   "source": [
    "#solution 2.\n",
    "main_ing = {'a':'z','b':'y','c':'x','d':'w','e':'v','f':'u','g':'t','h':'s','i':'r','j':'q','k':'p','l':'o','m':'n','n':'m','o':'l','p':'k','q':'j','r':'i','s':'h','t':'g','u':'f','v':'e','w':'d','x':'c','y':'b','z':'a',' ':'$','$':' '}\n",
    "inp = input('write a message:')\n",
    "minp = inp.lower()\n",
    "for ch in minp:\n",
    "    minp = minp.replace(ch,main_ing[ch])\n",
    "print(minp)\n"
   ]
  },
  {
   "cell_type": "code",
   "execution_count": null,
   "id": "8ec6cf84",
   "metadata": {},
   "outputs": [],
   "source": []
  }
 ],
 "metadata": {
  "kernelspec": {
   "display_name": "Python 3 (ipykernel)",
   "language": "python",
   "name": "python3"
  },
  "language_info": {
   "codemirror_mode": {
    "name": "ipython",
    "version": 3
   },
   "file_extension": ".py",
   "mimetype": "text/x-python",
   "name": "python",
   "nbconvert_exporter": "python",
   "pygments_lexer": "ipython3",
   "version": "3.9.7"
  }
 },
 "nbformat": 4,
 "nbformat_minor": 5
}
